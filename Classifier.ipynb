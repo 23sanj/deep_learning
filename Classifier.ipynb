{
 "cells": [
  {
   "cell_type": "code",
   "execution_count": 86,
   "metadata": {},
   "outputs": [],
   "source": [
    "import pandas as pd\n",
    "import numpy as np\n",
    "import matplotlib.pyplot as plt\n",
    "from sklearn import linear_model, datasets\n",
    "from sklearn.preprocessing import OneHotEncoder\n",
    "from sklearn.preprocessing import LabelEncoder\n",
    "from sklearn.metrics import log_loss\n",
    "from sklearn import preprocessing\n",
    "from sklearn.ensemble import RandomForestClassifier\n",
    "from sklearn import metrics\n",
    "import pickle"
   ]
  },
  {
   "cell_type": "code",
   "execution_count": 130,
   "metadata": {},
   "outputs": [],
   "source": [
    "#Reading the datasets\n",
    "clmns=['class of worker ACLSWKR',\n",
    "       'industry code ADTIND',\n",
    "       'occupation code ADTOCC',\n",
    "       'education AHGA',\n",
    "       'wage per hour AHRSPAY',\n",
    "       'enrolled in edu inst last wk AHSCOL',\n",
    "       'marital status AMARITL',\n",
    "       'major industry code AMJIND',\n",
    "       'major occupation code AMJOCC',\n",
    "       'mace ARACE',\n",
    "       'hispanic Origin AREORGN',\n",
    "       'sex ASEX',\n",
    "       'member of a labor union AUNMEM',\n",
    "       'reason for unemployment AUNTYPE',\n",
    "       'full or part time employment stat AWKSTAT',\n",
    "       'capital gains CAPGAIN',\n",
    "       'capital losses CAPLOSS',\n",
    "       'divdends from stocks DIVVAL',\n",
    "       'tax filer status FILESTAT',\n",
    "       'region of previous residence GRINREG',\n",
    "       'state of previous residence GRINST',\n",
    "       'detailed household and family stat HHDFMX',\n",
    "       'detailed household summary in household HHDREL',\n",
    "       'migration code-change in msa MIGMTR1',\n",
    "       'migration code-change in reg MIGMTR3',\n",
    "       'migration code-move within reg MIGMTR4',\n",
    "       'live in this house 1 year ago MIGSAME',\n",
    "       'migration prev res in sunbelt MIGSUN',\n",
    "       'num persons worked for employer NOEMP',\n",
    "       'family members under 18 PARENT',\n",
    "       'country of birth father PEFNTVTY',\n",
    "       'country of birth mother PEMNTVTY',\n",
    "       'country of birth self PENATVTY',\n",
    "       'citizenship PRCITSHP',\n",
    "       'own business or self employed SEOTR',\n",
    "       'taxable income amount TAXINC',\n",
    "       \"fill inc questionnaire for veteran's admin VETQVA\",\n",
    "       'veterans benefits VETYN',\n",
    "       'weeks worked in year WKSWORK',\n",
    "       'instance weight MARSUPWT',\n",
    "       'gross income target TARGET ']\n",
    "df=pd.read_csv(\"/Users/i871402/Desktop/ML_assignment/census-income.data\", names = clmns)\n"
   ]
  },
  {
   "cell_type": "code",
   "execution_count": 113,
   "metadata": {},
   "outputs": [],
   "source": [
    "for column in df.select_dtypes(include=['object']).copy():\n",
    "    if df[column].str.contains(r'Not in universe').sum()/df.shape[0]>0.7:\n",
    "        df = df.drop(column, axis=1)"
   ]
  },
  {
   "cell_type": "code",
   "execution_count": 114,
   "metadata": {},
   "outputs": [],
   "source": [
    "for column in df:\n",
    "    df[column] = df[column].astype('category')\n",
    "    df[column] = df[column].cat.codes"
   ]
  },
  {
   "cell_type": "code",
   "execution_count": 125,
   "metadata": {},
   "outputs": [],
   "source": [
    "msk = np.random.rand(len(df)) < 0.8\n",
    "X=df.iloc[:,:-1]\n",
    "X_train = df[msk].iloc[:,:-1]\n",
    "y_train = df[msk].iloc[:,-1]\n",
    "X_test = df[~msk].iloc[:,:-1]\n",
    "y_test = df[~msk].iloc[:,-1]"
   ]
  },
  {
   "cell_type": "code",
   "execution_count": 116,
   "metadata": {},
   "outputs": [],
   "source": [
    "r = RandomForestClassifier(n_estimators=100)"
   ]
  },
  {
   "cell_type": "code",
   "execution_count": 117,
   "metadata": {},
   "outputs": [
    {
     "name": "stdout",
     "output_type": "stream",
     "text": [
      "0.9524108330614192\n"
     ]
    }
   ],
   "source": [
    "r.fit(X_train,y_train)\n",
    "y_pred_prob = r.predict_proba(X_test)\n",
    "y_pred = r.predict(X_test)\n",
    "print(metrics.accuracy_score(y_test, y_pred))"
   ]
  },
  {
   "cell_type": "code",
   "execution_count": 107,
   "metadata": {},
   "outputs": [],
   "source": [
    "feature_imp = pd.Series(r.feature_importances_,index = df.columns[:-1]).sort_values(ascending=False)\n",
    "red_features =feature_imp[:-5].index"
   ]
  },
  {
   "cell_type": "code",
   "execution_count": 119,
   "metadata": {},
   "outputs": [],
   "source": [
    "filename = 'model.sav'\n",
    "pickle.dump(r, open(filename, 'wb'))"
   ]
  },
  {
   "cell_type": "code",
   "execution_count": null,
   "metadata": {},
   "outputs": [],
   "source": []
  }
 ],
 "metadata": {
  "kernelspec": {
   "display_name": "Python 3",
   "language": "python",
   "name": "python3"
  },
  "language_info": {
   "codemirror_mode": {
    "name": "ipython",
    "version": 3
   },
   "file_extension": ".py",
   "mimetype": "text/x-python",
   "name": "python",
   "nbconvert_exporter": "python",
   "pygments_lexer": "ipython3",
   "version": "3.6.5"
  }
 },
 "nbformat": 4,
 "nbformat_minor": 2
}
